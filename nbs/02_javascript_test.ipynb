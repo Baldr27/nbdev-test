{
 "cells": [
  {
   "cell_type": "code",
   "execution_count": 15,
   "metadata": {},
   "outputs": [],
   "source": [
    "#| default_exp asociacion"
   ]
  },
  {
   "cell_type": "code",
   "execution_count": 16,
   "metadata": {},
   "outputs": [],
   "source": [
    "#| export\n",
    "from IPython.display import display, HTML"
   ]
  },
  {
   "cell_type": "code",
   "execution_count": 17,
   "metadata": {},
   "outputs": [],
   "source": [
    "def display_p5js_sketch():\n",
    "    html_content = '''\n",
    "    <!DOCTYPE html>\n",
    "    <html>\n",
    "      <head>\n",
    "        <script src=\"https://cdnjs.cloudflare.com/ajax/libs/p5.js/1.4.0/p5.js\"></script>\n",
    "      </head>\n",
    "      <body>\n",
    "        <script>\n",
    "          function setup() {\n",
    "            let canvas = createCanvas(400, 400);\n",
    "            canvas.parent('sketch-holder');\n",
    "          }\n",
    "\n",
    "          function draw() {\n",
    "            background(220);\n",
    "            ellipse(50, 50, 50, 50);\n",
    "          }\n",
    "        </script>\n",
    "        <div id=\"sketch-holder\"></div>\n",
    "      </body>\n",
    "    </html>\n",
    "    '''\n",
    "    display(HTML(html_content))"
   ]
  },
  {
   "cell_type": "code",
   "execution_count": 18,
   "metadata": {},
   "outputs": [
    {
     "data": {
      "text/html": [
       "\n",
       "    <!DOCTYPE html>\n",
       "    <html>\n",
       "      <head>\n",
       "        <script src=\"https://cdnjs.cloudflare.com/ajax/libs/p5.js/1.4.0/p5.js\"></script>\n",
       "      </head>\n",
       "      <body>\n",
       "        <script>\n",
       "          function setup() {\n",
       "            let canvas = createCanvas(400, 400);\n",
       "            canvas.parent('sketch-holder');\n",
       "          }\n",
       "\n",
       "          function draw() {\n",
       "            background(220);\n",
       "            ellipse(50, 50, 50, 50);\n",
       "          }\n",
       "        </script>\n",
       "        <div id=\"sketch-holder\"></div>\n",
       "      </body>\n",
       "    </html>\n",
       "    "
      ],
      "text/plain": [
       "<IPython.core.display.HTML object>"
      ]
     },
     "metadata": {},
     "output_type": "display_data"
    }
   ],
   "source": [
    "display_p5js_sketch()"
   ]
  },
  {
   "cell_type": "code",
   "execution_count": 19,
   "metadata": {},
   "outputs": [],
   "source": [
    "#| hide\n",
    "import nbdev; nbdev.nbdev_export()"
   ]
  }
 ],
 "metadata": {
  "kernelspec": {
   "display_name": ".venv",
   "language": "python",
   "name": "python3"
  },
  "language_info": {
   "codemirror_mode": {
    "name": "ipython",
    "version": 3
   },
   "file_extension": ".py",
   "mimetype": "text/x-python",
   "name": "python",
   "nbconvert_exporter": "python",
   "pygments_lexer": "ipython3",
   "version": "3.12.4"
  }
 },
 "nbformat": 4,
 "nbformat_minor": 2
}
